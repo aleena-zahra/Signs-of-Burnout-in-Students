{
 "cells": [
  {
   "cell_type": "code",
   "execution_count": null,
   "id": "ed5ed536",
   "metadata": {},
   "outputs": [],
   "source": [
    "plt.figure(figsize=(10, 6))\n",
    "sns.histplot(df_cleaned[\"Total Score\"], kde=True, bins=10, color=\"salmon\")\n",
    "plt.title(\"Distribution of Total Burnout Scores\")\n",
    "plt.xlabel(\"Burnout Score\")\n",
    "plt.ylabel(\"Number of Students\")\n",
    "plt.tight_layout()\n",
    "plt.show()\n"
   ]
  },
  {
   "cell_type": "code",
   "execution_count": null,
   "id": "7a1f3d6b",
   "metadata": {},
   "outputs": [],
   "source": [
    "plt.figure(figsize=(10, 6))\n",
    "sns.boxplot(data=df_cleaned, x=\"Gender\", y=\"Total Score\", palette=\"pastel\")\n",
    "plt.title(\"Burnout Score by Gender\")\n",
    "plt.ylabel(\"Total Burnout Score\")\n",
    "plt.xlabel(\"Gender\")\n",
    "plt.tight_layout()\n",
    "plt.show()\n"
   ]
  },
  {
   "cell_type": "code",
   "execution_count": null,
   "id": "c9510636",
   "metadata": {},
   "outputs": [],
   "source": [
    "symptom_cols = df_cleaned.columns[6:-1] \n",
    "\n",
    "correlation_matrix = df_cleaned[symptom_cols].corr()\n",
    "\n",
    "plt.figure(figsize=(15, 12))\n",
    "sns.heatmap(correlation_matrix, cmap=\"coolwarm\", annot=True, fmt=\".2f\", square=True, cbar=True)\n",
    "plt.title(\"Correlation Heatmap of Burnout Symptoms\", fontsize=16)\n",
    "plt.xticks(rotation=90)\n",
    "plt.yticks(rotation=0)\n",
    "plt.tight_layout()\n",
    "plt.show()\n"
   ]
  },
  {
   "cell_type": "code",
   "execution_count": null,
   "id": "78783d89",
   "metadata": {},
   "outputs": [],
   "source": [
    "avg_scores = df_cleaned[symptom_cols].mean().sort_values(ascending=False)\n",
    "\n",
    "plt.figure(figsize=(12, 8))\n",
    "sns.barplot(x=avg_scores.values, y=avg_scores.index, palette=\"mako\")\n",
    "plt.title(\"Top Burnout Indicators by Average Response\")\n",
    "plt.xlabel(\"Average Response (1 = Never, 5 = Always)\")\n",
    "plt.ylabel(\"Question / Indicator\")\n",
    "plt.tight_layout()\n",
    "plt.show()\n"
   ]
  },
  {
   "cell_type": "code",
   "execution_count": null,
   "id": "e71afefe",
   "metadata": {},
   "outputs": [],
   "source": []
  }
 ],
 "metadata": {
  "kernelspec": {
   "display_name": "Python 3",
   "language": "python",
   "name": "python3"
  },
  "language_info": {
   "codemirror_mode": {
    "name": "ipython",
    "version": 3
   },
   "file_extension": ".py",
   "mimetype": "text/x-python",
   "name": "python",
   "nbconvert_exporter": "python",
   "pygments_lexer": "ipython3",
   "version": "3.12.1"
  }
 },
 "nbformat": 4,
 "nbformat_minor": 5
}
