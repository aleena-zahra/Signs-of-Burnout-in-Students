{
 "cells": [
  {
   "cell_type": "markdown",
   "id": "858e7dfa",
   "metadata": {},
   "source": [
    "# Student Burnout Analysis using MBI-SS\n",
    "\n",
    "## 🔍 What is Burnout and Why It Matters\n",
    " > **Burnout** is a psychological syndrome emerging as a prolonged response to chronic academic stress. In students, it includes:\n",
    " > - Emotional exhaustion\n",
    " > - Cynicism (detachment from studies)\n",
    " > - Reduced academic efficacy\n",
    " > Burnout affects mental health, grades, and motivation. Addressing it is vital for well-being and academic success.\n",
    "\n",
    "# 🧪 The Maslach Burnout Inventory - Student Survey (MBI-SS)\n",
    " > MBI-SS is a scientific tool to measure burnout in students. It breaks burnout into:\n",
    " > - **Emotional Exhaustion (EE)**\n",
    " > - **Cynicism (CY)**\n",
    " > - **Academic Efficacy (AE)** (lower scores mean higher burnout)\n",
    " > Responses are recorded on a Likert scale (0-6).\n",
    "\n",
    "## 📊 Our Dataset\n",
    "> This dataset contains responses from students who took the MBI-SS survey. We will:\n",
    "> - Explore total burnout scores\n",
    "> - Compare burnout by gender\n",
    "> - Analyze correlation between symptoms"
   ]
  },
  {
   "cell_type": "code",
   "execution_count": 3,
   "id": "0a0c15d4",
   "metadata": {},
   "outputs": [
    {
     "ename": "ModuleNotFoundError",
     "evalue": "No module named 'matplotlib'",
     "output_type": "error",
     "traceback": [
      "\u001b[31m---------------------------------------------------------------------------\u001b[39m",
      "\u001b[31mModuleNotFoundError\u001b[39m                       Traceback (most recent call last)",
      "\u001b[36mCell\u001b[39m\u001b[36m \u001b[39m\u001b[32mIn[3]\u001b[39m\u001b[32m, line 1\u001b[39m\n\u001b[32m----> \u001b[39m\u001b[32m1\u001b[39m \u001b[38;5;28;01mimport\u001b[39;00m\u001b[38;5;250m \u001b[39m\u001b[34;01mmatplotlib\u001b[39;00m\u001b[34;01m.\u001b[39;00m\u001b[34;01mpyplot\u001b[39;00m\u001b[38;5;250m \u001b[39m\u001b[38;5;28;01mas\u001b[39;00m\u001b[38;5;250m \u001b[39m\u001b[34;01mplt\u001b[39;00m\n\u001b[32m      2\u001b[39m \u001b[38;5;28;01mimport\u001b[39;00m\u001b[38;5;250m \u001b[39m\u001b[34;01mseaborn\u001b[39;00m\u001b[38;5;250m \u001b[39m\u001b[38;5;28;01mas\u001b[39;00m\u001b[38;5;250m \u001b[39m\u001b[34;01msns\u001b[39;00m\n",
      "\u001b[31mModuleNotFoundError\u001b[39m: No module named 'matplotlib'"
     ]
    }
   ],
   "source": [
    "import matplotlib.pyplot as plt\n",
    "import seaborn as sns"
   ]
  },
  {
   "cell_type": "code",
   "execution_count": null,
   "id": "ed5ed536",
   "metadata": {},
   "outputs": [
    {
     "ename": "",
     "evalue": "",
     "output_type": "error",
     "traceback": [
      "\u001b[1;31mRunning cells with 'Python 3.13.3' requires the ipykernel package.\n",
      "\u001b[1;31m<a href='command:jupyter.createPythonEnvAndSelectController'>Create a Python Environment</a> with the required packages.\n",
      "\u001b[1;31mOr install 'ipykernel' using the command: '\"c:/Users/ThinkPad T480s/AppData/Local/Programs/Python/Python313/python.exe\" -m pip install ipykernel -U --user --force-reinstall'"
     ]
    }
   ],
   "source": [
    "plt.figure(figsize=(10, 6))\n",
    "sns.histplot(df_cleaned[\"Total Score\"], kde=True, bins=10, color=\"salmon\")\n",
    "plt.title(\"Distribution of Total Burnout Scores\")\n",
    "plt.xlabel(\"Burnout Score\")\n",
    "plt.ylabel(\"Number of Students\")\n",
    "plt.tight_layout()\n",
    "plt.show()\n"
   ]
  },
  {
   "cell_type": "code",
   "execution_count": null,
   "id": "7a1f3d6b",
   "metadata": {},
   "outputs": [],
   "source": [
    "plt.figure(figsize=(10, 6))\n",
    "sns.boxplot(data=df_cleaned, x=\"Gender\", y=\"Total Score\", palette=\"pastel\")\n",
    "plt.title(\"Burnout Score by Gender\")\n",
    "plt.ylabel(\"Total Burnout Score\")\n",
    "plt.xlabel(\"Gender\")\n",
    "plt.tight_layout()\n",
    "plt.show()\n"
   ]
  },
  {
   "cell_type": "code",
   "execution_count": null,
   "id": "c9510636",
   "metadata": {},
   "outputs": [],
   "source": [
    "symptom_cols = df_cleaned.columns[6:-1] \n",
    "\n",
    "correlation_matrix = df_cleaned[symptom_cols].corr()\n",
    "\n",
    "plt.figure(figsize=(15, 12))\n",
    "sns.heatmap(correlation_matrix, cmap=\"coolwarm\", annot=True, fmt=\".2f\", square=True, cbar=True)\n",
    "plt.title(\"Correlation Heatmap of Burnout Symptoms\", fontsize=16)\n",
    "plt.xticks(rotation=90)\n",
    "plt.yticks(rotation=0)\n",
    "plt.tight_layout()\n",
    "plt.show()\n"
   ]
  },
  {
   "cell_type": "code",
   "execution_count": null,
   "id": "78783d89",
   "metadata": {},
   "outputs": [],
   "source": [
    "avg_scores = df_cleaned[symptom_cols].mean().sort_values(ascending=False)\n",
    "\n",
    "plt.figure(figsize=(12, 8))\n",
    "sns.barplot(x=avg_scores.values, y=avg_scores.index, palette=\"mako\")\n",
    "plt.title(\"Top Burnout Indicators by Average Response\")\n",
    "plt.xlabel(\"Average Response (1 = Never, 5 = Always)\")\n",
    "plt.ylabel(\"Question / Indicator\")\n",
    "plt.tight_layout()\n",
    "plt.show()\n"
   ]
  }
 ],
 "metadata": {
  "kernelspec": {
   "display_name": "Python 3",
   "language": "python",
   "name": "python3"
  },
  "language_info": {
   "codemirror_mode": {
    "name": "ipython",
    "version": 3
   },
   "file_extension": ".py",
   "mimetype": "text/x-python",
   "name": "python",
   "nbconvert_exporter": "python",
   "pygments_lexer": "ipython3",
   "version": "3.13.3"
  }
 },
 "nbformat": 4,
 "nbformat_minor": 5
}
